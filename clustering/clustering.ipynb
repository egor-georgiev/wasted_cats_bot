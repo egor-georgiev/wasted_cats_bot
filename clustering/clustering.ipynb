{
 "cells": [
  {
   "cell_type": "code",
   "execution_count": null,
   "outputs": [],
   "source": [
    "import math\n",
    "import pandas as pd\n",
    "import numpy as np\n",
    "import scipy\n",
    "import matplotlib.pyplot as plt\n",
    "import seaborn as sns\n",
    "from sklearn.preprocessing import StandardScaler\n",
    "from sklearn import metrics\n",
    "from sklearn.cluster import KMeans\n",
    "\n",
    "import requests"
   ],
   "metadata": {
    "pycharm": {
     "name": "#%%\n"
    },
    "id": "orLMYpCN3lBD"
   }
  },
  {
   "cell_type": "code",
   "execution_count": null,
   "outputs": [
    {
     "output_type": "stream",
     "name": "stdout",
     "text": [
      "<class 'pandas.core.frame.DataFrame'>\n",
      "RangeIndex: 67 entries, 0 to 66\n",
      "Data columns (total 22 columns):\n",
      " #   Column             Non-Null Count  Dtype \n",
      "---  ------             --------------  ----- \n",
      " 0   id                 67 non-null     object\n",
      " 1   indoor             67 non-null     object\n",
      " 2   adaptability       67 non-null     object\n",
      " 3   affection_level    67 non-null     object\n",
      " 4   child_friendly     67 non-null     object\n",
      " 5   dog_friendly       67 non-null     object\n",
      " 6   energy_level       67 non-null     object\n",
      " 7   grooming           67 non-null     object\n",
      " 8   health_issues      67 non-null     object\n",
      " 9   intelligence       67 non-null     object\n",
      " 10  shedding_level     67 non-null     object\n",
      " 11  social_needs       67 non-null     object\n",
      " 12  stranger_friendly  67 non-null     object\n",
      " 13  vocalisation       67 non-null     object\n",
      " 14  experimental       67 non-null     object\n",
      " 15  hairless           67 non-null     object\n",
      " 16  natural            67 non-null     object\n",
      " 17  rare               67 non-null     object\n",
      " 18  rex                67 non-null     object\n",
      " 19  suppressed_tail    67 non-null     object\n",
      " 20  short_legs         67 non-null     object\n",
      " 21  hypoallergenic     67 non-null     object\n",
      "dtypes: object(22)\n",
      "memory usage: 11.6+ KB\n"
     ]
    }
   ],
   "source": [
    "breeds = requests.request('GET', 'https://api.thecatapi.com/v1/breeds').json()\n",
    "breed0 = breeds[0]\n",
    "numeric_features = []\n",
    "for key, value in breed0.items():\n",
    "    if isinstance(value, (int, float)):\n",
    "        numeric_features.append(key)\n",
    "\n",
    "numeric_features.remove('lap')  # crutch to fix keyerror, inconsistent api object\n",
    "\n",
    "colnames = ['id'] + numeric_features\n",
    "df = pd.DataFrame(columns=colnames)\n",
    "for breed in breeds:\n",
    "    row = {key: breed[key] for key in colnames}\n",
    "\n",
    "    df = df.append(row, ignore_index=True)\n",
    "\n",
    "df.info()"
   ],
   "metadata": {
    "pycharm": {
     "name": "#%%\n"
    },
    "id": "Ve647cD73lBG",
    "colab": {
     "base_uri": "https://localhost:8080/"
    },
    "outputId": "07181922-c424-4f9a-e1d9-b62fdfb929a5"
   }
  },
  {
   "cell_type": "code",
   "source": [
    "df_orig = df.copy()"
   ],
   "metadata": {
    "id": "t9Fdennv9UZo",
    "pycharm": {
     "name": "#%%\n"
    }
   },
   "execution_count": null,
   "outputs": []
  },
  {
   "cell_type": "code",
   "source": [
    "df = df_orig.copy()"
   ],
   "metadata": {
    "id": "hg_ZbysDCOO-",
    "pycharm": {
     "name": "#%%\n"
    }
   },
   "execution_count": null,
   "outputs": []
  },
  {
   "cell_type": "code",
   "source": [
    "df.columns"
   ],
   "metadata": {
    "colab": {
     "base_uri": "https://localhost:8080/"
    },
    "id": "muWTqef__tgQ",
    "outputId": "15bb0dbd-7180-4c31-9e3d-a16fcd2dfd32",
    "pycharm": {
     "name": "#%%\n"
    }
   },
   "execution_count": null,
   "outputs": [
    {
     "output_type": "execute_result",
     "data": {
      "text/plain": [
       "Index(['id', 'indoor', 'adaptability', 'affection_level', 'child_friendly',\n",
       "       'dog_friendly', 'energy_level', 'grooming', 'health_issues',\n",
       "       'intelligence', 'shedding_level', 'social_needs', 'stranger_friendly',\n",
       "       'vocalisation', 'experimental', 'hairless', 'natural', 'rare', 'rex',\n",
       "       'suppressed_tail', 'short_legs', 'hypoallergenic'],\n",
       "      dtype='object')"
      ]
     },
     "metadata": {},
     "execution_count": 5
    }
   ]
  },
  {
   "cell_type": "code",
   "source": [
    "df.drop(columns=['indoor',\n",
    "                 'grooming',\n",
    "                 'health_issues',\n",
    "                 'shedding_level',\n",
    "                 'experimental',\n",
    "                 'hairless',\n",
    "                 'natural',\n",
    "                 'rare',\n",
    "                 'rex',\n",
    "                 'suppressed_tail',\n",
    "                 'short_legs',\n",
    "                 'hypoallergenic'],\n",
    "        inplace=True)"
   ],
   "metadata": {
    "id": "2cB3POFV9PZG",
    "pycharm": {
     "name": "#%%\n"
    }
   },
   "execution_count": null,
   "outputs": []
  },
  {
   "cell_type": "markdown",
   "source": [
    "-------------------------------------------------------------"
   ],
   "metadata": {
    "id": "KXXJ1Dys9Nub",
    "pycharm": {
     "name": "#%% md\n"
    }
   }
  },
  {
   "cell_type": "code",
   "execution_count": null,
   "outputs": [
    {
     "output_type": "display_data",
     "data": {
      "text/plain": [
       "<Figure size 432x288 with 1 Axes>"
      ],
      "image/png": "[encoded data removed]"
     },
     "metadata": {
      "needs_background": "light"
     }
    }
   ],
   "source": [
    "pd.options.mode.chained_assignment = None\n",
    "df.dropna()\n",
    "noid = df.drop(columns=('id'))\n",
    "\n",
    "scaler = StandardScaler()\n",
    "scaled = scaler.fit_transform(noid)\n",
    "\n",
    "inertia = []\n",
    "for k in range(2, 10):\n",
    "    kmeans = KMeans(n_clusters=k, random_state=1337).fit(scaled)\n",
    "    inertia.append(np.sqrt(kmeans.inertia_))\n",
    "\n",
    "plt.plot(range(2, 10), inertia, marker='s');\n",
    "plt.xlabel('Число кластеров')\n",
    "plt.ylabel('Ошибка');\n"
   ],
   "metadata": {
    "pycharm": {
     "name": "#%%\n"
    },
    "colab": {
     "base_uri": "https://localhost:8080/",
     "height": 279
    },
    "id": "eWmGs6B93lBI",
    "outputId": "dc73da9e-18a2-426e-b1d4-21b15455f294"
   }
  },
  {
   "cell_type": "code",
   "execution_count": null,
   "outputs": [
    {
     "output_type": "display_data",
     "data": {
      "text/plain": [
       "<Figure size 432x288 with 1 Axes>"
      ],
      "image/png": "[encoded data removed]"
     },
     "metadata": {
      "needs_background": "light"
     }
    }
   ],
   "source": [
    "sil = []\n",
    "for k in range(2, 10):\n",
    "    kmeans = KMeans(n_clusters=k, random_state=1337).fit(scaled)\n",
    "    sil.append(metrics.silhouette_score(scaled, kmeans.labels_))\n",
    "\n",
    "plt.plot(range(2, 10), sil, marker='s');\n",
    "plt.xlabel('Число кластеров')\n",
    "plt.ylabel('Силуэт');\n"
   ],
   "metadata": {
    "pycharm": {
     "name": "#%%\n"
    },
    "colab": {
     "base_uri": "https://localhost:8080/",
     "height": 279
    },
    "id": "NtVzkfjx3lBJ",
    "outputId": "0ba25ce9-3913-4873-e99e-ef11b6840cc1"
   }
  },
  {
   "cell_type": "code",
   "source": [
    "# По силуэту имело смысл выбрать 4 кластера однако один из них оказывался малонаполненным так что остановились на трёх."
   ],
   "metadata": {
    "id": "nsSbZftMs4hM",
    "pycharm": {
     "name": "#%%\n"
    }
   },
   "execution_count": null,
   "outputs": []
  },
  {
   "cell_type": "code",
   "execution_count": null,
   "outputs": [
    {
     "output_type": "stream",
     "name": "stderr",
     "text": [
      "/usr/local/lib/python3.7/dist-packages/IPython/core/interactiveshell.py:3326: FutureWarning: Dropping invalid columns in DataFrameGroupBy.mean is deprecated. In a future version, a TypeError will be raised. Before calling .mean, select only columns which should be valid for the function.\n",
      "  exec(code_obj, self.user_global_ns, self.user_ns)\n"
     ]
    },
    {
     "output_type": "execute_result",
     "data": {
      "text/plain": [
       "         adaptability  affection_level  child_friendly  dog_friendly  \\\n",
       "cluster                                                                \n",
       "0            4.966667         5.000000        3.966667      4.866667   \n",
       "1            5.000000         4.928571        4.000000      4.892857   \n",
       "2            3.777778         4.222222        2.888889      2.888889   \n",
       "\n",
       "         energy_level  intelligence  social_needs  stranger_friendly  \\\n",
       "cluster                                                                \n",
       "0            4.633333      5.000000      4.633333           4.366667   \n",
       "1            3.428571      3.964286      3.607143           3.464286   \n",
       "2            3.000000      3.444444      3.888889           2.444444   \n",
       "\n",
       "         vocalisation  \n",
       "cluster                \n",
       "0            3.700000  \n",
       "1            2.000000  \n",
       "2            2.444444  "
      ],
      "text/html": [
       "\n",
       "  <div id=\"df-6e4a75eb-7d59-464e-a5da-e2df36a096ce\">\n",
       "    <div class=\"colab-df-container\">\n",
       "      <div>\n",
       "<style scoped>\n",
       "    .dataframe tbody tr th:only-of-type {\n",
       "        vertical-align: middle;\n",
       "    }\n",
       "\n",
       "    .dataframe tbody tr th {\n",
       "        vertical-align: top;\n",
       "    }\n",
       "\n",
       "    .dataframe thead th {\n",
       "        text-align: right;\n",
       "    }\n",
       "</style>\n",
       "<table border=\"1\" class=\"dataframe\">\n",
       "  <thead>\n",
       "    <tr style=\"text-align: right;\">\n",
       "      <th></th>\n",
       "      <th>adaptability</th>\n",
       "      <th>affection_level</th>\n",
       "      <th>child_friendly</th>\n",
       "      <th>dog_friendly</th>\n",
       "      <th>energy_level</th>\n",
       "      <th>intelligence</th>\n",
       "      <th>social_needs</th>\n",
       "      <th>stranger_friendly</th>\n",
       "      <th>vocalisation</th>\n",
       "    </tr>\n",
       "    <tr>\n",
       "      <th>cluster</th>\n",
       "      <th></th>\n",
       "      <th></th>\n",
       "      <th></th>\n",
       "      <th></th>\n",
       "      <th></th>\n",
       "      <th></th>\n",
       "      <th></th>\n",
       "      <th></th>\n",
       "      <th></th>\n",
       "    </tr>\n",
       "  </thead>\n",
       "  <tbody>\n",
       "    <tr>\n",
       "      <th>0</th>\n",
       "      <td>4.966667</td>\n",
       "      <td>5.000000</td>\n",
       "      <td>3.966667</td>\n",
       "      <td>4.866667</td>\n",
       "      <td>4.633333</td>\n",
       "      <td>5.000000</td>\n",
       "      <td>4.633333</td>\n",
       "      <td>4.366667</td>\n",
       "      <td>3.700000</td>\n",
       "    </tr>\n",
       "    <tr>\n",
       "      <th>1</th>\n",
       "      <td>5.000000</td>\n",
       "      <td>4.928571</td>\n",
       "      <td>4.000000</td>\n",
       "      <td>4.892857</td>\n",
       "      <td>3.428571</td>\n",
       "      <td>3.964286</td>\n",
       "      <td>3.607143</td>\n",
       "      <td>3.464286</td>\n",
       "      <td>2.000000</td>\n",
       "    </tr>\n",
       "    <tr>\n",
       "      <th>2</th>\n",
       "      <td>3.777778</td>\n",
       "      <td>4.222222</td>\n",
       "      <td>2.888889</td>\n",
       "      <td>2.888889</td>\n",
       "      <td>3.000000</td>\n",
       "      <td>3.444444</td>\n",
       "      <td>3.888889</td>\n",
       "      <td>2.444444</td>\n",
       "      <td>2.444444</td>\n",
       "    </tr>\n",
       "  </tbody>\n",
       "</table>\n",
       "</div>\n",
       "      <button class=\"colab-df-convert\" onclick=\"convertToInteractive('df-6e4a75eb-7d59-464e-a5da-e2df36a096ce')\"\n",
       "              title=\"Convert this dataframe to an interactive table.\"\n",
       "              style=\"display:none;\">\n",
       "        \n",
       "  <svg xmlns=\"http://www.w3.org/2000/svg\" height=\"24px\"viewBox=\"0 0 24 24\"\n",
       "       width=\"24px\">\n",
       "    <path d=\"M0 0h24v24H0V0z\" fill=\"none\"/>\n",
       "    <path d=\"M18.56 5.44l.94 2.06.94-2.06 2.06-.94-2.06-.94-.94-2.06-.94 2.06-2.06.94zm-11 1L8.5 8.5l.94-2.06 2.06-.94-2.06-.94L8.5 2.5l-.94 2.06-2.06.94zm10 10l.94 2.06.94-2.06 2.06-.94-2.06-.94-.94-2.06-.94 2.06-2.06.94z\"/><path d=\"M17.41 7.96l-1.37-1.37c-.4-.4-.92-.59-1.43-.59-.52 0-1.04.2-1.43.59L10.3 9.45l-7.72 7.72c-.78.78-.78 2.05 0 2.83L4 21.41c.39.39.9.59 1.41.59.51 0 1.02-.2 1.41-.59l7.78-7.78 2.81-2.81c.8-.78.8-2.07 0-2.86zM5.41 20L4 18.59l7.72-7.72 1.47 1.35L5.41 20z\"/>\n",
       "  </svg>\n",
       "      </button>\n",
       "      \n",
       "  <style>\n",
       "    .colab-df-container {\n",
       "      display:flex;\n",
       "      flex-wrap:wrap;\n",
       "      gap: 12px;\n",
       "    }\n",
       "\n",
       "    .colab-df-convert {\n",
       "      background-color: #E8F0FE;\n",
       "      border: none;\n",
       "      border-radius: 50%;\n",
       "      cursor: pointer;\n",
       "      display: none;\n",
       "      fill: #1967D2;\n",
       "      height: 32px;\n",
       "      padding: 0 0 0 0;\n",
       "      width: 32px;\n",
       "    }\n",
       "\n",
       "    .colab-df-convert:hover {\n",
       "      background-color: #E2EBFA;\n",
       "      box-shadow: 0px 1px 2px rgba(60, 64, 67, 0.3), 0px 1px 3px 1px rgba(60, 64, 67, 0.15);\n",
       "      fill: #174EA6;\n",
       "    }\n",
       "\n",
       "    [theme=dark] .colab-df-convert {\n",
       "      background-color: #3B4455;\n",
       "      fill: #D2E3FC;\n",
       "    }\n",
       "\n",
       "    [theme=dark] .colab-df-convert:hover {\n",
       "      background-color: #434B5C;\n",
       "      box-shadow: 0px 1px 3px 1px rgba(0, 0, 0, 0.15);\n",
       "      filter: drop-shadow(0px 1px 2px rgba(0, 0, 0, 0.3));\n",
       "      fill: #FFFFFF;\n",
       "    }\n",
       "  </style>\n",
       "\n",
       "      <script>\n",
       "        const buttonEl =\n",
       "          document.querySelector('#df-6e4a75eb-7d59-464e-a5da-e2df36a096ce button.colab-df-convert');\n",
       "        buttonEl.style.display =\n",
       "          google.colab.kernel.accessAllowed ? 'block' : 'none';\n",
       "\n",
       "        async function convertToInteractive(key) {\n",
       "          const element = document.querySelector('#df-6e4a75eb-7d59-464e-a5da-e2df36a096ce');\n",
       "          const dataTable =\n",
       "            await google.colab.kernel.invokeFunction('convertToInteractive',\n",
       "                                                     [key], {});\n",
       "          if (!dataTable) return;\n",
       "\n",
       "          const docLinkHtml = 'Like what you see? Visit the ' +\n",
       "            '<a target=\"_blank\" href=https://colab.research.google.com/notebooks/data_table.ipynb>data table notebook</a>'\n",
       "            + ' to learn more about interactive tables.';\n",
       "          element.innerHTML = '';\n",
       "          dataTable['output_type'] = 'display_data';\n",
       "          await google.colab.output.renderOutput(dataTable, element);\n",
       "          const docLink = document.createElement('div');\n",
       "          docLink.innerHTML = docLinkHtml;\n",
       "          element.appendChild(docLink);\n",
       "        }\n",
       "      </script>\n",
       "    </div>\n",
       "  </div>\n",
       "  "
      ]
     },
     "metadata": {},
     "execution_count": 10
    }
   ],
   "source": [
    "kmodel = KMeans(n_clusters=3, random_state=1337)\n",
    "kmodel.fit(scaled)\n",
    "df_3clust = df.copy()\n",
    "df_3clust[\"cluster\"] = kmodel.labels_\n",
    "df_3clust.groupby(\"cluster\").mean()\n"
   ],
   "metadata": {
    "pycharm": {
     "name": "#%%\n"
    },
    "colab": {
     "base_uri": "https://localhost:8080/",
     "height": 230
    },
    "id": "JR62XQyv3lBK",
    "outputId": "95154d41-068f-415e-e9ad-70705dd59eed"
   }
  },
  {
   "cell_type": "code",
   "execution_count": null,
   "outputs": [
    {
     "output_type": "execute_result",
     "data": {
      "text/plain": [
       "0    30\n",
       "1    28\n",
       "2     9\n",
       "Name: cluster, dtype: int64"
      ]
     },
     "metadata": {},
     "execution_count": 11
    }
   ],
   "source": [
    "df_3clust.cluster.value_counts()"
   ],
   "metadata": {
    "pycharm": {
     "name": "#%%\n"
    },
    "colab": {
     "base_uri": "https://localhost:8080/"
    },
    "id": "-KYltj473lBM",
    "outputId": "20bb9c87-4b08-42e1-a76b-58b73487280e"
   }
  },
  {
   "cell_type": "code",
   "source": [
    "all_handles = []\n",
    "n_clusters = np.unique(df_3clust[\"cluster\"])\n",
    "for _ in n_clusters:\n",
    "    all_handles.append([])\n",
    "\n",
    "for breed_index, cluster_id in enumerate(df_3clust[\"cluster\"]):\n",
    "    breed_id = df.iloc[breed_index]['id']\n",
    "    all_handles[cluster_id].append(breed_id)\n",
    "\n",
    "for handle in all_handles:\n",
    "    print(handle)"
   ],
   "metadata": {
    "colab": {
     "base_uri": "https://localhost:8080/"
    },
    "id": "9acB-7ovEdVX",
    "outputId": "7f652d28-0780-41bc-f4e4-1b031e4d481f",
    "pycharm": {
     "name": "#%%\n"
    }
   },
   "execution_count": null,
   "outputs": [
    {
     "output_type": "stream",
     "name": "stdout",
     "text": [
      "['abys', 'bali', 'beng', 'bomb', 'bure', 'ctif', 'chee', 'crex', 'cymr', 'drex', 'ebur', 'jbob', 'java', 'kuri', 'lape', 'manx', 'munc', 'ocic', 'orie', 'sava', 'siam', 'sing', 'snow', 'soma', 'sphy', 'tonk', 'toyg', 'tang', 'tvan', 'ycho']\n",
      "['aege', 'abob', 'acur', 'asho', 'awir', 'amau', 'amis', 'bamb', 'birm', 'bslo', 'bsho', 'buri', 'cspa', 'char', 'chau', 'cypr', 'hbro', 'kora', 'mcoo', 'mala', 'nebe', 'norw', 'pixi', 'raga', 'ragd', 'sfol', 'srex', 'sibe']\n",
      "['csho', 'dons', 'lihu', 'emau', 'esho', 'hima', 'khao', 'pers', 'rblu']\n"
     ]
    }
   ]
  },
  {
   "cell_type": "markdown",
   "source": [
    "**Комментарий**"
   ],
   "metadata": {
    "id": "RnpTwKvZbFl6",
    "pycharm": {
     "name": "#%% md\n"
    }
   }
  },
  {
   "cell_type": "code",
   "source": [
    "# В кластеризацию включен набор поведенческих особенностей представленных пород — то, насколько они дружелюбны к чужакам, другим животным, насколько они энергичные и т.д.\n",
    "# Здесь соответственно выход на шутливую дизайн-гипотезу для нашего бота: человек реагирует на фоточки котиков по их виду, однако такая система потом могла бы потом\n",
    "# как результат рассказать пользователю о том, какого характера котики ему нравятся\n",
    "# -\n",
    "# Кластер 0 (30 пород)\n",
    "# Крайне умные и ласковые к хозяевам. Очень энергичные, социабельные и дружелюбные к незнакомцам. Самые \"разговорчивые\" - любят помяукать. Хорошо адаптируются и уживаются с собаками.\n",
    "# С детьми тоже уживаются неплохо.\n",
    "# -\n",
    "# Кластер 1 (29 пород)\n",
    "# Очень хорошо адаптируются к любым условиям, лучше всех уживаются с детьми и собаками. Ласковые к хозяевам. Умеренно умные и дружелюбные к незнакомцам.\n",
    "# Не слишком энергичные, не \"разговорчивые\" и не сильно нуждающиеся в общении и играх с ними.\n",
    "# -\n",
    "# Кластер 2 (9 пород)\n",
    "# Недружелюбные по отношению к незнакомцам. Достаточно ласковые к хозяевам, однако плохо уживающиеся с детьми и собаками. Эти породы наименее энергичные и обладают\n",
    "# невысоким интеллектом. Достаточно легко адаптирующиеся и социабельные."
   ],
   "metadata": {
    "id": "sX0qGY7OinCK",
    "pycharm": {
     "name": "#%%\n"
    }
   },
   "execution_count": null,
   "outputs": []
  },
  {
   "cell_type": "markdown",
   "source": [
    "------------------------------------------------------------------"
   ],
   "metadata": {
    "id": "QUyKuHSxEbKw",
    "pycharm": {
     "name": "#%% md\n"
    }
   }
  },
  {
   "cell_type": "code",
   "source": [
    "kmodel8 = KMeans(n_clusters=8, random_state=1337)\n",
    "kmodel8.fit(scaled)\n",
    "df_8clust = df.copy()\n",
    "df_8clust[\"cluster8\"] = kmodel8.labels_\n",
    "df_8clust.groupby(\"cluster8\").mean()"
   ],
   "metadata": {
    "colab": {
     "base_uri": "https://localhost:8080/",
     "height": 387
    },
    "id": "YCVdU2LeIZMv",
    "outputId": "162a17ae-0367-449f-daaf-fd8660278b4d",
    "pycharm": {
     "name": "#%%\n"
    }
   },
   "execution_count": null,
   "outputs": [
    {
     "output_type": "stream",
     "name": "stderr",
     "text": [
      "/usr/local/lib/python3.7/dist-packages/IPython/core/interactiveshell.py:3326: FutureWarning: Dropping invalid columns in DataFrameGroupBy.mean is deprecated. In a future version, a TypeError will be raised. Before calling .mean, select only columns which should be valid for the function.\n",
      "  exec(code_obj, self.user_global_ns, self.user_ns)\n"
     ]
    },
    {
     "output_type": "execute_result",
     "data": {
      "text/plain": [
       "          adaptability  affection_level  child_friendly  dog_friendly  \\\n",
       "cluster8                                                                \n",
       "0             5.000000         5.000000        3.857143      4.857143   \n",
       "1             5.000000         5.000000        4.000000      4.916667   \n",
       "2             3.666667         4.000000        3.333333      3.333333   \n",
       "3             5.000000         4.846154        4.000000      4.846154   \n",
       "4             5.000000         5.000000        2.333333      2.333333   \n",
       "5             2.000000         5.000000        3.000000      3.000000   \n",
       "6             4.947368         5.000000        4.052632      4.894737   \n",
       "7             3.000000         3.000000        3.000000      3.000000   \n",
       "\n",
       "          energy_level  intelligence  social_needs  stranger_friendly  \\\n",
       "cluster8                                                                \n",
       "0             4.285714      4.857143      4.857143           4.000000   \n",
       "1             3.833333      4.916667      3.166667           3.916667   \n",
       "2             3.666667      4.000000      4.000000           3.333333   \n",
       "3             3.230769      3.000000      3.461538           3.076923   \n",
       "4             1.666667      3.000000      4.000000           2.000000   \n",
       "5             5.000000      4.000000      4.000000           2.000000   \n",
       "6             4.578947      5.000000      4.684211           4.473684   \n",
       "7             3.000000      3.000000      3.500000           2.000000   \n",
       "\n",
       "          vocalisation  \n",
       "cluster8                \n",
       "0             1.428571  \n",
       "1             2.333333  \n",
       "2             4.000000  \n",
       "3             2.538462  \n",
       "4             1.000000  \n",
       "5             3.000000  \n",
       "6             4.526316  \n",
       "7             2.000000  "
      ],
      "text/html": [
       "\n",
       "  <div id=\"df-9787d898-234c-4244-a8f7-e8870e207a58\">\n",
       "    <div class=\"colab-df-container\">\n",
       "      <div>\n",
       "<style scoped>\n",
       "    .dataframe tbody tr th:only-of-type {\n",
       "        vertical-align: middle;\n",
       "    }\n",
       "\n",
       "    .dataframe tbody tr th {\n",
       "        vertical-align: top;\n",
       "    }\n",
       "\n",
       "    .dataframe thead th {\n",
       "        text-align: right;\n",
       "    }\n",
       "</style>\n",
       "<table border=\"1\" class=\"dataframe\">\n",
       "  <thead>\n",
       "    <tr style=\"text-align: right;\">\n",
       "      <th></th>\n",
       "      <th>adaptability</th>\n",
       "      <th>affection_level</th>\n",
       "      <th>child_friendly</th>\n",
       "      <th>dog_friendly</th>\n",
       "      <th>energy_level</th>\n",
       "      <th>intelligence</th>\n",
       "      <th>social_needs</th>\n",
       "      <th>stranger_friendly</th>\n",
       "      <th>vocalisation</th>\n",
       "    </tr>\n",
       "    <tr>\n",
       "      <th>cluster8</th>\n",
       "      <th></th>\n",
       "      <th></th>\n",
       "      <th></th>\n",
       "      <th></th>\n",
       "      <th></th>\n",
       "      <th></th>\n",
       "      <th></th>\n",
       "      <th></th>\n",
       "      <th></th>\n",
       "    </tr>\n",
       "  </thead>\n",
       "  <tbody>\n",
       "    <tr>\n",
       "      <th>0</th>\n",
       "      <td>5.000000</td>\n",
       "      <td>5.000000</td>\n",
       "      <td>3.857143</td>\n",
       "      <td>4.857143</td>\n",
       "      <td>4.285714</td>\n",
       "      <td>4.857143</td>\n",
       "      <td>4.857143</td>\n",
       "      <td>4.000000</td>\n",
       "      <td>1.428571</td>\n",
       "    </tr>\n",
       "    <tr>\n",
       "      <th>1</th>\n",
       "      <td>5.000000</td>\n",
       "      <td>5.000000</td>\n",
       "      <td>4.000000</td>\n",
       "      <td>4.916667</td>\n",
       "      <td>3.833333</td>\n",
       "      <td>4.916667</td>\n",
       "      <td>3.166667</td>\n",
       "      <td>3.916667</td>\n",
       "      <td>2.333333</td>\n",
       "    </tr>\n",
       "    <tr>\n",
       "      <th>2</th>\n",
       "      <td>3.666667</td>\n",
       "      <td>4.000000</td>\n",
       "      <td>3.333333</td>\n",
       "      <td>3.333333</td>\n",
       "      <td>3.666667</td>\n",
       "      <td>4.000000</td>\n",
       "      <td>4.000000</td>\n",
       "      <td>3.333333</td>\n",
       "      <td>4.000000</td>\n",
       "    </tr>\n",
       "    <tr>\n",
       "      <th>3</th>\n",
       "      <td>5.000000</td>\n",
       "      <td>4.846154</td>\n",
       "      <td>4.000000</td>\n",
       "      <td>4.846154</td>\n",
       "      <td>3.230769</td>\n",
       "      <td>3.000000</td>\n",
       "      <td>3.461538</td>\n",
       "      <td>3.076923</td>\n",
       "      <td>2.538462</td>\n",
       "    </tr>\n",
       "    <tr>\n",
       "      <th>4</th>\n",
       "      <td>5.000000</td>\n",
       "      <td>5.000000</td>\n",
       "      <td>2.333333</td>\n",
       "      <td>2.333333</td>\n",
       "      <td>1.666667</td>\n",
       "      <td>3.000000</td>\n",
       "      <td>4.000000</td>\n",
       "      <td>2.000000</td>\n",
       "      <td>1.000000</td>\n",
       "    </tr>\n",
       "    <tr>\n",
       "      <th>5</th>\n",
       "      <td>2.000000</td>\n",
       "      <td>5.000000</td>\n",
       "      <td>3.000000</td>\n",
       "      <td>3.000000</td>\n",
       "      <td>5.000000</td>\n",
       "      <td>4.000000</td>\n",
       "      <td>4.000000</td>\n",
       "      <td>2.000000</td>\n",
       "      <td>3.000000</td>\n",
       "    </tr>\n",
       "    <tr>\n",
       "      <th>6</th>\n",
       "      <td>4.947368</td>\n",
       "      <td>5.000000</td>\n",
       "      <td>4.052632</td>\n",
       "      <td>4.894737</td>\n",
       "      <td>4.578947</td>\n",
       "      <td>5.000000</td>\n",
       "      <td>4.684211</td>\n",
       "      <td>4.473684</td>\n",
       "      <td>4.526316</td>\n",
       "    </tr>\n",
       "    <tr>\n",
       "      <th>7</th>\n",
       "      <td>3.000000</td>\n",
       "      <td>3.000000</td>\n",
       "      <td>3.000000</td>\n",
       "      <td>3.000000</td>\n",
       "      <td>3.000000</td>\n",
       "      <td>3.000000</td>\n",
       "      <td>3.500000</td>\n",
       "      <td>2.000000</td>\n",
       "      <td>2.000000</td>\n",
       "    </tr>\n",
       "  </tbody>\n",
       "</table>\n",
       "</div>\n",
       "      <button class=\"colab-df-convert\" onclick=\"convertToInteractive('df-9787d898-234c-4244-a8f7-e8870e207a58')\"\n",
       "              title=\"Convert this dataframe to an interactive table.\"\n",
       "              style=\"display:none;\">\n",
       "        \n",
       "  <svg xmlns=\"http://www.w3.org/2000/svg\" height=\"24px\"viewBox=\"0 0 24 24\"\n",
       "       width=\"24px\">\n",
       "    <path d=\"M0 0h24v24H0V0z\" fill=\"none\"/>\n",
       "    <path d=\"M18.56 5.44l.94 2.06.94-2.06 2.06-.94-2.06-.94-.94-2.06-.94 2.06-2.06.94zm-11 1L8.5 8.5l.94-2.06 2.06-.94-2.06-.94L8.5 2.5l-.94 2.06-2.06.94zm10 10l.94 2.06.94-2.06 2.06-.94-2.06-.94-.94-2.06-.94 2.06-2.06.94z\"/><path d=\"M17.41 7.96l-1.37-1.37c-.4-.4-.92-.59-1.43-.59-.52 0-1.04.2-1.43.59L10.3 9.45l-7.72 7.72c-.78.78-.78 2.05 0 2.83L4 21.41c.39.39.9.59 1.41.59.51 0 1.02-.2 1.41-.59l7.78-7.78 2.81-2.81c.8-.78.8-2.07 0-2.86zM5.41 20L4 18.59l7.72-7.72 1.47 1.35L5.41 20z\"/>\n",
       "  </svg>\n",
       "      </button>\n",
       "      \n",
       "  <style>\n",
       "    .colab-df-container {\n",
       "      display:flex;\n",
       "      flex-wrap:wrap;\n",
       "      gap: 12px;\n",
       "    }\n",
       "\n",
       "    .colab-df-convert {\n",
       "      background-color: #E8F0FE;\n",
       "      border: none;\n",
       "      border-radius: 50%;\n",
       "      cursor: pointer;\n",
       "      display: none;\n",
       "      fill: #1967D2;\n",
       "      height: 32px;\n",
       "      padding: 0 0 0 0;\n",
       "      width: 32px;\n",
       "    }\n",
       "\n",
       "    .colab-df-convert:hover {\n",
       "      background-color: #E2EBFA;\n",
       "      box-shadow: 0px 1px 2px rgba(60, 64, 67, 0.3), 0px 1px 3px 1px rgba(60, 64, 67, 0.15);\n",
       "      fill: #174EA6;\n",
       "    }\n",
       "\n",
       "    [theme=dark] .colab-df-convert {\n",
       "      background-color: #3B4455;\n",
       "      fill: #D2E3FC;\n",
       "    }\n",
       "\n",
       "    [theme=dark] .colab-df-convert:hover {\n",
       "      background-color: #434B5C;\n",
       "      box-shadow: 0px 1px 3px 1px rgba(0, 0, 0, 0.15);\n",
       "      filter: drop-shadow(0px 1px 2px rgba(0, 0, 0, 0.3));\n",
       "      fill: #FFFFFF;\n",
       "    }\n",
       "  </style>\n",
       "\n",
       "      <script>\n",
       "        const buttonEl =\n",
       "          document.querySelector('#df-9787d898-234c-4244-a8f7-e8870e207a58 button.colab-df-convert');\n",
       "        buttonEl.style.display =\n",
       "          google.colab.kernel.accessAllowed ? 'block' : 'none';\n",
       "\n",
       "        async function convertToInteractive(key) {\n",
       "          const element = document.querySelector('#df-9787d898-234c-4244-a8f7-e8870e207a58');\n",
       "          const dataTable =\n",
       "            await google.colab.kernel.invokeFunction('convertToInteractive',\n",
       "                                                     [key], {});\n",
       "          if (!dataTable) return;\n",
       "\n",
       "          const docLinkHtml = 'Like what you see? Visit the ' +\n",
       "            '<a target=\"_blank\" href=https://colab.research.google.com/notebooks/data_table.ipynb>data table notebook</a>'\n",
       "            + ' to learn more about interactive tables.';\n",
       "          element.innerHTML = '';\n",
       "          dataTable['output_type'] = 'display_data';\n",
       "          await google.colab.output.renderOutput(dataTable, element);\n",
       "          const docLink = document.createElement('div');\n",
       "          docLink.innerHTML = docLinkHtml;\n",
       "          element.appendChild(docLink);\n",
       "        }\n",
       "      </script>\n",
       "    </div>\n",
       "  </div>\n",
       "  "
      ]
     },
     "metadata": {},
     "execution_count": 14
    }
   ]
  },
  {
   "cell_type": "code",
   "source": [
    "df_8clust.cluster8.value_counts()"
   ],
   "metadata": {
    "colab": {
     "base_uri": "https://localhost:8080/"
    },
    "id": "qveLshkEIqSf",
    "outputId": "a372e8bc-c198-4cbc-908c-3da9ce977ced",
    "pycharm": {
     "name": "#%%\n"
    }
   },
   "execution_count": null,
   "outputs": [
    {
     "output_type": "execute_result",
     "data": {
      "text/plain": [
       "6    19\n",
       "0    14\n",
       "3    13\n",
       "1    12\n",
       "2     3\n",
       "4     3\n",
       "7     2\n",
       "5     1\n",
       "Name: cluster8, dtype: int64"
      ]
     },
     "metadata": {},
     "execution_count": 15
    }
   ]
  },
  {
   "cell_type": "code",
   "execution_count": null,
   "outputs": [],
   "source": [
    "# https://stackoverflow.com/questions/5452576/k-means-algorithm-variation-with-equal-cluster-size\n",
    "from sklearn.cluster import KMeans\n",
    "from scipy.spatial.distance import cdist\n",
    "from scipy.optimize import linear_sum_assignment\n",
    "import numpy as np\n",
    "\n",
    "\n",
    "def get_even_clusters(X, cluster_size):\n",
    "    n_clusters = int(np.ceil(len(X) / cluster_size))\n",
    "    kmeans = KMeans(n_clusters)\n",
    "    kmeans.fit(X)\n",
    "    centers = kmeans.cluster_centers_\n",
    "    centers = centers.reshape(-1, 1, X.shape[-1]).repeat(cluster_size, 1).reshape(-1, X.shape[-1])\n",
    "    distance_matrix = cdist(X, centers)\n",
    "    clusters = linear_sum_assignment(distance_matrix)[1] // cluster_size\n",
    "    return clusters\n",
    "\n",
    "\n",
    "clusters = get_even_clusters(X=scaled, cluster_size=23)\n"
   ],
   "metadata": {
    "pycharm": {
     "name": "#%%\n"
    },
    "id": "AlhjigDk3lBM"
   }
  },
  {
   "cell_type": "code",
   "source": [
    "import numpy as np"
   ],
   "metadata": {
    "id": "KzjnWG-rOk74",
    "pycharm": {
     "name": "#%%\n"
    }
   },
   "execution_count": null,
   "outputs": []
  },
  {
   "cell_type": "code",
   "source": [
    "df_eqsize = df.copy()\n",
    "for col in df_eqsize.columns:\n",
    "    try:\n",
    "        df_eqsize[col] = df_eqsize[col].astype(np.int64)\n",
    "    except:\n",
    "        print('encountered str col')"
   ],
   "metadata": {
    "colab": {
     "base_uri": "https://localhost:8080/"
    },
    "id": "5HHOIUfYOLOT",
    "outputId": "450b01f8-46aa-44b5-ba6d-dc41722552ae",
    "pycharm": {
     "name": "#%%\n"
    }
   },
   "execution_count": null,
   "outputs": [
    {
     "output_type": "stream",
     "name": "stdout",
     "text": [
      "encountered str col\n"
     ]
    }
   ]
  },
  {
   "cell_type": "code",
   "source": [
    "df_eqsize['clust_eqsize'] = clusters\n",
    "df_eqsize.groupby('clust_eqsize').mean()"
   ],
   "metadata": {
    "colab": {
     "base_uri": "https://localhost:8080/",
     "height": 175
    },
    "id": "wq3gmwsqKbwH",
    "outputId": "f0191155-c648-4769-cc60-99bcd4228873",
    "pycharm": {
     "name": "#%%\n"
    }
   },
   "execution_count": null,
   "outputs": [
    {
     "output_type": "execute_result",
     "data": {
      "text/plain": [
       "              adaptability  affection_level  child_friendly  dog_friendly  \\\n",
       "clust_eqsize                                                                \n",
       "0                 5.000000         5.000000        4.043478      4.956522   \n",
       "1                 4.428571         4.571429        3.428571      3.809524   \n",
       "2                 5.000000         5.000000        4.000000      5.000000   \n",
       "\n",
       "              energy_level  intelligence  social_needs  stranger_friendly  \\\n",
       "clust_eqsize                                                                \n",
       "0                 4.695652      5.000000      4.739130           4.478261   \n",
       "1                 3.380952      3.809524      4.142857           3.000000   \n",
       "2                 3.608696      4.217391      3.434783           3.652174   \n",
       "\n",
       "              vocalisation  \n",
       "clust_eqsize                \n",
       "0                 3.826087  \n",
       "1                 2.380952  \n",
       "2                 2.217391  "
      ],
      "text/html": [
       "\n",
       "  <div id=\"df-36c1d262-ea2f-41bc-ae8d-002c6a58466b\">\n",
       "    <div class=\"colab-df-container\">\n",
       "      <div>\n",
       "<style scoped>\n",
       "    .dataframe tbody tr th:only-of-type {\n",
       "        vertical-align: middle;\n",
       "    }\n",
       "\n",
       "    .dataframe tbody tr th {\n",
       "        vertical-align: top;\n",
       "    }\n",
       "\n",
       "    .dataframe thead th {\n",
       "        text-align: right;\n",
       "    }\n",
       "</style>\n",
       "<table border=\"1\" class=\"dataframe\">\n",
       "  <thead>\n",
       "    <tr style=\"text-align: right;\">\n",
       "      <th></th>\n",
       "      <th>adaptability</th>\n",
       "      <th>affection_level</th>\n",
       "      <th>child_friendly</th>\n",
       "      <th>dog_friendly</th>\n",
       "      <th>energy_level</th>\n",
       "      <th>intelligence</th>\n",
       "      <th>social_needs</th>\n",
       "      <th>stranger_friendly</th>\n",
       "      <th>vocalisation</th>\n",
       "    </tr>\n",
       "    <tr>\n",
       "      <th>clust_eqsize</th>\n",
       "      <th></th>\n",
       "      <th></th>\n",
       "      <th></th>\n",
       "      <th></th>\n",
       "      <th></th>\n",
       "      <th></th>\n",
       "      <th></th>\n",
       "      <th></th>\n",
       "      <th></th>\n",
       "    </tr>\n",
       "  </thead>\n",
       "  <tbody>\n",
       "    <tr>\n",
       "      <th>0</th>\n",
       "      <td>5.000000</td>\n",
       "      <td>5.000000</td>\n",
       "      <td>4.043478</td>\n",
       "      <td>4.956522</td>\n",
       "      <td>4.695652</td>\n",
       "      <td>5.000000</td>\n",
       "      <td>4.739130</td>\n",
       "      <td>4.478261</td>\n",
       "      <td>3.826087</td>\n",
       "    </tr>\n",
       "    <tr>\n",
       "      <th>1</th>\n",
       "      <td>4.428571</td>\n",
       "      <td>4.571429</td>\n",
       "      <td>3.428571</td>\n",
       "      <td>3.809524</td>\n",
       "      <td>3.380952</td>\n",
       "      <td>3.809524</td>\n",
       "      <td>4.142857</td>\n",
       "      <td>3.000000</td>\n",
       "      <td>2.380952</td>\n",
       "    </tr>\n",
       "    <tr>\n",
       "      <th>2</th>\n",
       "      <td>5.000000</td>\n",
       "      <td>5.000000</td>\n",
       "      <td>4.000000</td>\n",
       "      <td>5.000000</td>\n",
       "      <td>3.608696</td>\n",
       "      <td>4.217391</td>\n",
       "      <td>3.434783</td>\n",
       "      <td>3.652174</td>\n",
       "      <td>2.217391</td>\n",
       "    </tr>\n",
       "  </tbody>\n",
       "</table>\n",
       "</div>\n",
       "      <button class=\"colab-df-convert\" onclick=\"convertToInteractive('df-36c1d262-ea2f-41bc-ae8d-002c6a58466b')\"\n",
       "              title=\"Convert this dataframe to an interactive table.\"\n",
       "              style=\"display:none;\">\n",
       "        \n",
       "  <svg xmlns=\"http://www.w3.org/2000/svg\" height=\"24px\"viewBox=\"0 0 24 24\"\n",
       "       width=\"24px\">\n",
       "    <path d=\"M0 0h24v24H0V0z\" fill=\"none\"/>\n",
       "    <path d=\"M18.56 5.44l.94 2.06.94-2.06 2.06-.94-2.06-.94-.94-2.06-.94 2.06-2.06.94zm-11 1L8.5 8.5l.94-2.06 2.06-.94-2.06-.94L8.5 2.5l-.94 2.06-2.06.94zm10 10l.94 2.06.94-2.06 2.06-.94-2.06-.94-.94-2.06-.94 2.06-2.06.94z\"/><path d=\"M17.41 7.96l-1.37-1.37c-.4-.4-.92-.59-1.43-.59-.52 0-1.04.2-1.43.59L10.3 9.45l-7.72 7.72c-.78.78-.78 2.05 0 2.83L4 21.41c.39.39.9.59 1.41.59.51 0 1.02-.2 1.41-.59l7.78-7.78 2.81-2.81c.8-.78.8-2.07 0-2.86zM5.41 20L4 18.59l7.72-7.72 1.47 1.35L5.41 20z\"/>\n",
       "  </svg>\n",
       "      </button>\n",
       "      \n",
       "  <style>\n",
       "    .colab-df-container {\n",
       "      display:flex;\n",
       "      flex-wrap:wrap;\n",
       "      gap: 12px;\n",
       "    }\n",
       "\n",
       "    .colab-df-convert {\n",
       "      background-color: #E8F0FE;\n",
       "      border: none;\n",
       "      border-radius: 50%;\n",
       "      cursor: pointer;\n",
       "      display: none;\n",
       "      fill: #1967D2;\n",
       "      height: 32px;\n",
       "      padding: 0 0 0 0;\n",
       "      width: 32px;\n",
       "    }\n",
       "\n",
       "    .colab-df-convert:hover {\n",
       "      background-color: #E2EBFA;\n",
       "      box-shadow: 0px 1px 2px rgba(60, 64, 67, 0.3), 0px 1px 3px 1px rgba(60, 64, 67, 0.15);\n",
       "      fill: #174EA6;\n",
       "    }\n",
       "\n",
       "    [theme=dark] .colab-df-convert {\n",
       "      background-color: #3B4455;\n",
       "      fill: #D2E3FC;\n",
       "    }\n",
       "\n",
       "    [theme=dark] .colab-df-convert:hover {\n",
       "      background-color: #434B5C;\n",
       "      box-shadow: 0px 1px 3px 1px rgba(0, 0, 0, 0.15);\n",
       "      filter: drop-shadow(0px 1px 2px rgba(0, 0, 0, 0.3));\n",
       "      fill: #FFFFFF;\n",
       "    }\n",
       "  </style>\n",
       "\n",
       "      <script>\n",
       "        const buttonEl =\n",
       "          document.querySelector('#df-36c1d262-ea2f-41bc-ae8d-002c6a58466b button.colab-df-convert');\n",
       "        buttonEl.style.display =\n",
       "          google.colab.kernel.accessAllowed ? 'block' : 'none';\n",
       "\n",
       "        async function convertToInteractive(key) {\n",
       "          const element = document.querySelector('#df-36c1d262-ea2f-41bc-ae8d-002c6a58466b');\n",
       "          const dataTable =\n",
       "            await google.colab.kernel.invokeFunction('convertToInteractive',\n",
       "                                                     [key], {});\n",
       "          if (!dataTable) return;\n",
       "\n",
       "          const docLinkHtml = 'Like what you see? Visit the ' +\n",
       "            '<a target=\"_blank\" href=https://colab.research.google.com/notebooks/data_table.ipynb>data table notebook</a>'\n",
       "            + ' to learn more about interactive tables.';\n",
       "          element.innerHTML = '';\n",
       "          dataTable['output_type'] = 'display_data';\n",
       "          await google.colab.output.renderOutput(dataTable, element);\n",
       "          const docLink = document.createElement('div');\n",
       "          docLink.innerHTML = docLinkHtml;\n",
       "          element.appendChild(docLink);\n",
       "        }\n",
       "      </script>\n",
       "    </div>\n",
       "  </div>\n",
       "  "
      ]
     },
     "metadata": {},
     "execution_count": 19
    }
   ]
  },
  {
   "cell_type": "code",
   "source": [
    "df_eqsize['clust_eqsize'].value_counts()"
   ],
   "metadata": {
    "colab": {
     "base_uri": "https://localhost:8080/"
    },
    "id": "42ytslrCLCNe",
    "outputId": "4c10c8a3-9f06-45b1-b295-489de1cc2abf",
    "pycharm": {
     "name": "#%%\n"
    }
   },
   "execution_count": null,
   "outputs": [
    {
     "output_type": "execute_result",
     "data": {
      "text/plain": [
       "2    23\n",
       "0    23\n",
       "1    21\n",
       "Name: clust_eqsize, dtype: int64"
      ]
     },
     "metadata": {},
     "execution_count": 20
    }
   ]
  },
  {
   "cell_type": "code",
   "execution_count": null,
   "outputs": [
    {
     "output_type": "stream",
     "name": "stdout",
     "text": [
      "['bali', 'beng', 'bure', 'cymr', 'drex', 'ebur', 'jbob', 'kuri', 'lape', 'manx', 'munc', 'ocic', 'orie', 'sava', 'siam', 'sing', 'snow', 'sphy', 'tonk', 'toyg', 'tang', 'tvan', 'ycho']\n",
      "['abys', 'aege', 'bsho', 'buri', 'char', 'csho', 'crex', 'dons', 'lihu', 'emau', 'esho', 'hima', 'java', 'khao', 'kora', 'mala', 'nebe', 'pers', 'ragd', 'rblu', 'soma']\n",
      "['abob', 'acur', 'asho', 'awir', 'amau', 'amis', 'bamb', 'birm', 'bomb', 'bslo', 'cspa', 'ctif', 'chau', 'chee', 'cypr', 'hbro', 'mcoo', 'norw', 'pixi', 'raga', 'sfol', 'srex', 'sibe']\n"
     ]
    }
   ],
   "source": [
    "all_handles = []\n",
    "n_clusters = np.unique(clusters)\n",
    "for _ in n_clusters:\n",
    "    all_handles.append([])\n",
    "\n",
    "for breed_index, cluster_id in enumerate(clusters):\n",
    "    breed_id = df.iloc[breed_index]['id']\n",
    "    all_handles[cluster_id].append(breed_id)\n",
    "\n",
    "for handle in all_handles:\n",
    "    print(handle)"
   ],
   "metadata": {
    "pycharm": {
     "name": "#%%\n"
    },
    "colab": {
     "base_uri": "https://localhost:8080/"
    },
    "id": "2OFvtBeP3lBO",
    "outputId": "a933c33f-5470-4568-d158-b6e55854d062"
   }
  },
  {
   "cell_type": "markdown",
   "source": [
    "###############################################################################\n"
   ],
   "metadata": {
    "id": "xtBHwjKVd_o2",
    "pycharm": {
     "name": "#%% md\n"
    }
   }
  },
  {
   "cell_type": "code",
   "source": [
    "clusters"
   ],
   "metadata": {
    "colab": {
     "base_uri": "https://localhost:8080/"
    },
    "id": "iYPSLJx1eDsD",
    "outputId": "c9359547-346d-4c90-a4fd-27da2ff8b1ac",
    "pycharm": {
     "name": "#%%\n"
    }
   },
   "execution_count": null,
   "outputs": [
    {
     "output_type": "execute_result",
     "data": {
      "text/plain": [
       "array([1, 1, 2, 2, 2, 2, 2, 2, 0, 2, 0, 2, 2, 2, 1, 0, 1, 2, 2, 1, 2, 2,\n",
       "       1, 1, 0, 2, 0, 1, 1, 1, 0, 1, 2, 1, 0, 1, 1, 1, 0, 0, 2, 1, 0, 0,\n",
       "       1, 2, 0, 0, 1, 2, 2, 1, 1, 0, 2, 2, 0, 2, 0, 0, 1, 0, 0, 0, 0, 0,\n",
       "       0])"
      ]
     },
     "metadata": {},
     "execution_count": 22
    }
   ]
  }
 ],
 "metadata": {
  "kernelspec": {
   "display_name": "Python 3",
   "language": "python",
   "name": "python3"
  },
  "language_info": {
   "codemirror_mode": {
    "name": "ipython",
    "version": 2
   },
   "file_extension": ".py",
   "mimetype": "text/x-python",
   "name": "python",
   "nbconvert_exporter": "python",
   "pygments_lexer": "ipython2",
   "version": "2.7.6"
  },
  "colab": {
   "provenance": [],
   "collapsed_sections": []
  }
 },
 "nbformat": 4,
 "nbformat_minor": 0
}