{
 "cells": [
  {
   "cell_type": "code",
   "execution_count": 28,
   "outputs": [],
   "source": [
    "import os\n",
    "\n",
    "# _get_mongo_db relies on evn vars, we have to source them\n",
    "with open('../default.env') as env:\n",
    "    for line in env:\n",
    "        line = line.lstrip(\"export \").rstrip(\"\\n\").replace('\"', \"\").split(\"=\")\n",
    "        if len(line) == 1 or line[0].startswith(\"#\"):\n",
    "            continue\n",
    "        key, value = line\n",
    "        os.environ[key] = value\n"
   ],
   "metadata": {
    "collapsed": false,
    "pycharm": {
     "name": "#%%\n"
    }
   }
  },
  {
   "cell_type": "code",
   "execution_count": 9,
   "outputs": [],
   "source": [
    "from utils import _get_mongo_db\n",
    "\n",
    "test_series = _get_mongo_db()['test_series']"
   ],
   "metadata": {
    "collapsed": false,
    "pycharm": {
     "name": "#%%\n"
    }
   }
  },
  {
   "cell_type": "code",
   "execution_count": 13,
   "outputs": [],
   "source": [
    "from utils import _get_cat_image_url\n",
    "from constants import HANDLES\n",
    "\n",
    "url = _get_cat_image_url(HANDLES[1])\n",
    "!firefox $url"
   ],
   "metadata": {
    "collapsed": false,
    "pycharm": {
     "name": "#%%\n"
    }
   }
  },
  {
   "cell_type": "code",
   "execution_count": null,
   "outputs": [],
   "source": [
    "from telegram_client import TelegramClient\n",
    "from constants import *\n",
    "from bot import Bot\n",
    "tg = TelegramClient(\n",
    "    chat_id=message[\"message\"][\"chat\"][\"id\"],\n",
    "    token=os.getenv(\"TG_TOKEN\")\n",
    ")\n",
    "bot = Bot(telegram_client=tg, message_text=message_text)\n",
    "bot.run()\n"
   ],
   "metadata": {
    "collapsed": false,
    "pycharm": {
     "name": "#%%\n"
    }
   }
  }
 ],
 "metadata": {
  "kernelspec": {
   "display_name": "Python 3",
   "language": "python",
   "name": "python3"
  },
  "language_info": {
   "codemirror_mode": {
    "name": "ipython",
    "version": 2
   },
   "file_extension": ".py",
   "mimetype": "text/x-python",
   "name": "python",
   "nbconvert_exporter": "python",
   "pygments_lexer": "ipython2",
   "version": "2.7.6"
  }
 },
 "nbformat": 4,
 "nbformat_minor": 0
}